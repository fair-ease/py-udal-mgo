{
 "cells": [
  {
   "cell_type": "code",
   "execution_count": null,
   "metadata": {},
   "outputs": [],
   "source": [
    "from mgo.udal import UDAL\n",
    "\n",
    "udal = UDAL()\n",
    "\n",
    "result = udal.execute('urn:embrc.eu:emobon:observatory-overview')\n",
    "result.data()"
   ]
  }
 ],
 "metadata": {
  "language_info": {
   "file_extension": ".py",
   "mimetype": "text/x-python",
   "name": "python"
  }
 },
 "nbformat": 4,
 "nbformat_minor": 2
}
